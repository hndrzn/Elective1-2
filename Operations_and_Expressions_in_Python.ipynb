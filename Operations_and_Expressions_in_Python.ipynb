{
  "nbformat": 4,
  "nbformat_minor": 0,
  "metadata": {
    "colab": {
      "name": "Operations and Expressions in Python.ipynb",
      "provenance": [],
      "collapsed_sections": [],
      "authorship_tag": "ABX9TyPdVKJm4LhJbamZ0YzT6qRM",
      "include_colab_link": true
    },
    "kernelspec": {
      "name": "python3",
      "display_name": "Python 3"
    },
    "language_info": {
      "name": "python"
    }
  },
  "cells": [
    {
      "cell_type": "markdown",
      "metadata": {
        "id": "view-in-github",
        "colab_type": "text"
      },
      "source": [
        "<a href=\"https://colab.research.google.com/github/hndrzn/Elective1-2/blob/main/Operations_and_Expressions_in_Python.ipynb\" target=\"_parent\"><img src=\"https://colab.research.google.com/assets/colab-badge.svg\" alt=\"Open In Colab\"/></a>"
      ]
    },
    {
      "cell_type": "code",
      "execution_count": null,
      "metadata": {
        "id": "AUs1d-Q6GIyb"
      },
      "outputs": [],
      "source": [
        ""
      ]
    },
    {
      "cell_type": "markdown",
      "source": [
        "##Boolean Operators\n"
      ],
      "metadata": {
        "id": "UgC4ZyX_GNu9"
      }
    },
    {
      "cell_type": "code",
      "source": [
        "print(31>32) #returns value FALSE\n",
        "print(31==31) #returns value TRUE\n",
        "print(31<32)  #returns value TRUE"
      ],
      "metadata": {
        "colab": {
          "base_uri": "https://localhost:8080/"
        },
        "id": "_hBk7Rl5GYhS",
        "outputId": "9ec72834-6659-4857-c58c-ad0d2fd019fc"
      },
      "execution_count": null,
      "outputs": [
        {
          "output_type": "stream",
          "name": "stdout",
          "text": [
            "False\n",
            "True\n",
            "True\n"
          ]
        }
      ]
    },
    {
      "cell_type": "code",
      "source": [
        "31>32\n",
        "31==31\n",
        "31<32   #returns only one value, only last line is read"
      ],
      "metadata": {
        "colab": {
          "base_uri": "https://localhost:8080/"
        },
        "id": "pXAqjHpJG3ss",
        "outputId": "7b88b1bc-9b1a-4eeb-bb9d-4e1263b44316"
      },
      "execution_count": null,
      "outputs": [
        {
          "output_type": "execute_result",
          "data": {
            "text/plain": [
              "True"
            ]
          },
          "metadata": {},
          "execution_count": 4
        }
      ]
    },
    {
      "cell_type": "markdown",
      "source": [
        "##Bool Function\n"
      ],
      "metadata": {
        "id": "sQgsafvWHJFF"
      }
    },
    {
      "cell_type": "code",
      "source": [
        "print(bool(\"False\"))\n",
        "print(bool(31))\n",
        "\n",
        "#both lines above return TRUE value as they both contain a value\n",
        "\n",
        "#suceeding lines below return FALSE value as they contain no or negate a value\n",
        "\n",
        "print(bool(0))\n",
        "print(bool())\n",
        "print(bool(False))\n",
        "print(bool(None))\n",
        "\n"
      ],
      "metadata": {
        "colab": {
          "base_uri": "https://localhost:8080/"
        },
        "id": "-W3HcdxCHP9l",
        "outputId": "35e8aa58-b748-4771-b32f-495fea154228"
      },
      "execution_count": null,
      "outputs": [
        {
          "output_type": "stream",
          "name": "stdout",
          "text": [
            "True\n",
            "True\n",
            "False\n",
            "False\n",
            "False\n",
            "False\n"
          ]
        }
      ]
    },
    {
      "cell_type": "markdown",
      "source": [
        "##Function\n"
      ],
      "metadata": {
        "id": "wZJeIKINJgKz"
      }
    },
    {
      "cell_type": "code",
      "source": [
        "def myFunction():\n",
        "  return True\n",
        "\n",
        "if myFunction():\n",
        "   print(\"Yes\")\n",
        "else:\n",
        "   print(\"No\")\n"
      ],
      "metadata": {
        "colab": {
          "base_uri": "https://localhost:8080/"
        },
        "id": "r5dPFA67Ji9v",
        "outputId": "bbf0e40b-06df-4025-9c49-39209fd4bcf0"
      },
      "execution_count": null,
      "outputs": [
        {
          "output_type": "stream",
          "name": "stdout",
          "text": [
            "Yes\n"
          ]
        }
      ]
    },
    {
      "cell_type": "markdown",
      "source": [
        "##Application 1"
      ],
      "metadata": {
        "id": "gUbxQvY1KmyX"
      }
    },
    {
      "cell_type": "code",
      "source": [
        "print(10>9)   #returns value TRUE\n",
        "\n",
        "a=6           #assign a = 6\n",
        "b=7           #assign b = 7\n",
        "\n",
        "print(a==b)    # 6 != 7 therefore returns FALSE value\n",
        "\n",
        "print(a!=a)   # a = a therefore a!=a is FALSE"
      ],
      "metadata": {
        "colab": {
          "base_uri": "https://localhost:8080/"
        },
        "id": "MzBdGWMiKsWR",
        "outputId": "f41603aa-cc67-44ed-df53-db6a7aada7e2"
      },
      "execution_count": null,
      "outputs": [
        {
          "output_type": "stream",
          "name": "stdout",
          "text": [
            "True\n",
            "False\n",
            "False\n"
          ]
        }
      ]
    },
    {
      "cell_type": "markdown",
      "source": [
        "##Python Operators"
      ],
      "metadata": {
        "id": "ontP7_O7LPsq"
      }
    },
    {
      "cell_type": "code",
      "source": [
        "#Arithmetic Operation\n",
        "\n",
        "print(1+1)  #Addition + operator\n",
        "\n",
        "print(2-1)  #Subtraction - operator\n",
        "\n",
        "print(2*2)  #Multiplication * operator\n",
        "\n",
        "print(10/2) #Division / operator"
      ],
      "metadata": {
        "colab": {
          "base_uri": "https://localhost:8080/"
        },
        "id": "2wEleazSLT3A",
        "outputId": "11ca04c1-c997-48a6-911d-c0b1df9ac100"
      },
      "execution_count": null,
      "outputs": [
        {
          "output_type": "stream",
          "name": "stdout",
          "text": [
            "2\n",
            "1\n",
            "4\n",
            "5.0\n"
          ]
        }
      ]
    },
    {
      "cell_type": "markdown",
      "source": [
        "##Python Bitwise Operators"
      ],
      "metadata": {
        "id": "DFIG1FIGNt7N"
      }
    },
    {
      "cell_type": "code",
      "source": [
        "print(31 & 13)\n",
        "print(31 | 13)\n",
        "print(31 ^ 13)\n",
        "\n",
        "31 >> 2"
      ],
      "metadata": {
        "colab": {
          "base_uri": "https://localhost:8080/"
        },
        "id": "y5Wo82pwNxIn",
        "outputId": "93ff6356-f9b3-4209-f0df-560d598b14de"
      },
      "execution_count": null,
      "outputs": [
        {
          "output_type": "stream",
          "name": "stdout",
          "text": [
            "13\n",
            "31\n",
            "18\n"
          ]
        },
        {
          "output_type": "execute_result",
          "data": {
            "text/plain": [
              "7"
            ]
          },
          "metadata": {},
          "execution_count": 31
        }
      ]
    },
    {
      "cell_type": "markdown",
      "source": [
        "##Python Assignment Operators"
      ],
      "metadata": {
        "id": "ZHUJuVHiOCjP"
      }
    },
    {
      "cell_type": "code",
      "source": [
        "x = 20     #assign value of x = 20\n",
        "\n",
        "x//=5      #divide x // 5\n",
        "print(x) #x = x//5 = 4"
      ],
      "metadata": {
        "colab": {
          "base_uri": "https://localhost:8080/"
        },
        "id": "L6VCVee9OFbG",
        "outputId": "69c80854-8c5d-4434-9416-b3a13a990757"
      },
      "execution_count": null,
      "outputs": [
        {
          "output_type": "stream",
          "name": "stdout",
          "text": [
            "4\n"
          ]
        }
      ]
    },
    {
      "cell_type": "markdown",
      "source": [
        "##Logical Operators"
      ],
      "metadata": {
        "id": "LF6q4XMCOZRc"
      }
    },
    {
      "cell_type": "code",
      "source": [
        "x = True\n",
        "y = False \n",
        "\n",
        "print(x and y)\n",
        "print(x or y)"
      ],
      "metadata": {
        "colab": {
          "base_uri": "https://localhost:8080/"
        },
        "id": "A-ecw-IJOaaV",
        "outputId": "d8d60a29-942a-4806-d866-f028761947fc"
      },
      "execution_count": null,
      "outputs": [
        {
          "output_type": "stream",
          "name": "stdout",
          "text": [
            "False\n",
            "True\n"
          ]
        }
      ]
    },
    {
      "cell_type": "markdown",
      "source": [
        "##Identity Operators"
      ],
      "metadata": {
        "id": "gWAwwFxjOiXd"
      }
    },
    {
      "cell_type": "code",
      "source": [
        "Mako = x\n",
        "Neko = y\n",
        "\n",
        "Mako is Mako\n",
        "Mako is not Neko"
      ],
      "metadata": {
        "colab": {
          "base_uri": "https://localhost:8080/"
        },
        "id": "4CKFilfkOj2j",
        "outputId": "308855cc-631e-486a-8eb6-603c0de0fee7"
      },
      "execution_count": null,
      "outputs": [
        {
          "output_type": "execute_result",
          "data": {
            "text/plain": [
              "True"
            ]
          },
          "metadata": {},
          "execution_count": 43
        }
      ]
    }
  ]
}